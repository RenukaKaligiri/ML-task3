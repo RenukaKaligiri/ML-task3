{
 "cells": [
  {
   "cell_type": "code",
   "execution_count": 1,
   "id": "73df7ac5",
   "metadata": {
    "_cell_guid": "b1076dfc-b9ad-4769-8c92-a6c4dae69d19",
    "_uuid": "8f2839f25d086af736a60e9eeb907d3b93b6e0e5",
    "execution": {
     "iopub.execute_input": "2024-09-12T14:22:04.831703Z",
     "iopub.status.busy": "2024-09-12T14:22:04.831292Z",
     "iopub.status.idle": "2024-09-12T14:22:05.253723Z",
     "shell.execute_reply": "2024-09-12T14:22:05.252422Z"
    },
    "papermill": {
     "duration": 0.432379,
     "end_time": "2024-09-12T14:22:05.256128",
     "exception": false,
     "start_time": "2024-09-12T14:22:04.823749",
     "status": "completed"
    },
    "tags": []
   },
   "outputs": [],
   "source": [
    "# This Python 3 environment comes with many helpful analytics libraries installed\n",
    "# It is defined by the kaggle/python Docker image: https://github.com/kaggle/docker-python\n",
    "# For example, here's several helpful packages to load\n",
    "\n",
    "import numpy as np # linear algebra\n",
    "import pandas as pd # data processing, CSV file I/O (e.g. pd.read_csv)\n",
    "\n",
    "# Input data files are available in the read-only \"../input/\" directory\n",
    "# For example, running this (by clicking run or pressing Shift+Enter) will list all files under the input directory\n",
    "\n",
    "import os\n",
    "for dirname, _, filenames in os.walk('/kaggle/input'):\n",
    "    for filename in filenames:\n",
    "        print(os.path.join(dirname, filename))\n",
    "\n",
    "# You can write up to 20GB to the current directory (/kaggle/working/) that gets preserved as output when you create a version using \"Save & Run All\" \n",
    "# You can also write temporary files to /kaggle/temp/, but they won't be saved outside of the current session"
   ]
  },
  {
   "cell_type": "code",
   "execution_count": 3,
   "id": "bc55f7ea",
   "metadata": {
    "execution": {
     "iopub.execute_input": "2024-09-12T14:22:05.265132Z",
     "iopub.status.busy": "2024-09-12T14:22:05.264624Z",
     "iopub.status.idle": "2024-09-12T14:22:22.338520Z",
     "shell.execute_reply": "2024-09-12T14:22:22.337046Z"
    },
    "papermill": {
     "duration": 17.081212,
     "end_time": "2024-09-12T14:22:22.341055",
     "exception": false,
     "start_time": "2024-09-12T14:22:05.259843",
     "status": "completed"
    },
    "tags": []
   },
   "outputs": [
    {
     "name": "stdout",
     "output_type": "stream",
     "text": [
      "Directory does not exist\n",
      "File not found: /kaggle/input/dogs-vs-cats/train.zip\n",
      "File not found: /kaggle/input/dogs-vs-cats/test1.zip\n"
     ]
    }
   ],
   "source": [
    "import os\n",
    "import zipfile\n",
    "\n",
    "# Define the directory and file path\n",
    "directory = '/kaggle/input/dogs-vs-cats/'\n",
    "train_zip_path = os.path.join(directory, 'train.zip')\n",
    "test_zip_path = os.path.join(directory, 'test1.zip')\n",
    "\n",
    "# Check if the directory exists\n",
    "if os.path.exists(directory):\n",
    "    print(\"Directory exists\")\n",
    "    print(\"Files in directory:\", os.listdir(directory))\n",
    "else:\n",
    "    print(\"Directory does not exist\")\n",
    "\n",
    "# Check if the train zip file exists\n",
    "if os.path.exists(train_zip_path):\n",
    "    with zipfile.ZipFile(train_zip_path, 'r') as zip_ref:\n",
    "        zip_ref.extractall('/kaggle/working/train')\n",
    "else:\n",
    "    print(f\"File not found: {train_zip_path}\")\n",
    "\n",
    "# Check if the test zip file exists\n",
    "if os.path.exists(test_zip_path):\n",
    "    with zipfile.ZipFile(test_zip_path, 'r') as zip_ref:\n",
    "        zip_ref.extractall('/kaggle/working/test')\n",
    "else:\n",
    "    print(f\"File not found: {test_zip_path}\")\n"
   ]
  },
  {
   "cell_type": "code",
   "execution_count": 24,
   "id": "73b7947f",
   "metadata": {
    "execution": {
     "iopub.execute_input": "2024-09-12T14:22:23.582002Z",
     "iopub.status.busy": "2024-09-12T14:22:23.581610Z",
     "iopub.status.idle": "2024-09-12T14:22:41.239771Z",
     "shell.execute_reply": "2024-09-12T14:22:41.237819Z"
    },
    "papermill": {
     "duration": 17.673469,
     "end_time": "2024-09-12T14:22:41.243443",
     "exception": false,
     "start_time": "2024-09-12T14:22:23.569974",
     "status": "completed"
    },
    "tags": []
   },
   "outputs": [
    {
     "name": "stdout",
     "output_type": "stream",
     "text": [
      "Directory path: C:/Users/Renuka/Documents\\your_actual_folder_name\n",
      "Directory does not exist\n"
     ]
    }
   ],
   "source": [
    "import os\n",
    "\n",
    "base_dir = 'C:/Users/Renuka/Documents'\n",
    "folder_name = 'your_actual_folder_name'\n",
    "path = os.path.join(base_dir, folder_name)\n",
    "\n",
    "print(\"Directory path:\", path)\n",
    "\n",
    "if os.path.exists(path):\n",
    "    print(\"Directory exists\")\n",
    "    print(\"Contents:\", os.listdir(path))\n",
    "else:\n",
    "    print(\"Directory does not exist\")\n"
   ]
  },
  {
   "cell_type": "code",
   "execution_count": 10,
   "id": "7185a563",
   "metadata": {},
   "outputs": [
    {
     "name": "stderr",
     "output_type": "stream",
     "text": [
      "c:\\Users\\Renuka\\AppData\\Local\\Programs\\Python\\Python39\\lib\\site-packages\\keras\\src\\layers\\reshaping\\flatten.py:37: UserWarning: Do not pass an `input_shape`/`input_dim` argument to a layer. When using Sequential models, prefer using an `Input(shape)` object as the first layer in the model instead.\n",
      "  super().__init__(**kwargs)\n"
     ]
    }
   ],
   "source": [
    "from tensorflow.keras.models import Sequential\n",
    "from tensorflow.keras.layers import Dense, Flatten\n",
    "\n",
    "# Define input shape based on your data\n",
    "input_shape = (28, 28, 1)\n",
    "\n",
    "# Define your model\n",
    "model = Sequential([\n",
    "    Flatten(input_shape=input_shape),  # Flatten the input if it's a 2D image\n",
    "    Dense(64, activation='relu'),\n",
    "    Dense(10, activation='softmax')\n",
    "])\n",
    "\n",
    "# Compile the model\n",
    "model.compile(optimizer='adam', loss='categorical_crossentropy', metrics=['accuracy'])\n",
    "\n",
    "\n"
   ]
  },
  {
   "cell_type": "code",
   "execution_count": 12,
   "id": "d9f1f638",
   "metadata": {
    "execution": {
     "iopub.execute_input": "2024-09-12T14:22:41.266848Z",
     "iopub.status.busy": "2024-09-12T14:22:41.266129Z",
     "iopub.status.idle": "2024-09-12T14:26:48.378882Z",
     "shell.execute_reply": "2024-09-12T14:26:48.377694Z"
    },
    "papermill": {
     "duration": 247.127976,
     "end_time": "2024-09-12T14:26:48.381817",
     "exception": false,
     "start_time": "2024-09-12T14:22:41.253841",
     "status": "completed"
    },
    "tags": []
   },
   "outputs": [
    {
     "name": "stderr",
     "output_type": "stream",
     "text": [
      "c:\\Users\\Renuka\\AppData\\Local\\Programs\\Python\\Python39\\lib\\site-packages\\keras\\src\\layers\\convolutional\\base_conv.py:107: UserWarning: Do not pass an `input_shape`/`input_dim` argument to a layer. When using Sequential models, prefer using an `Input(shape)` object as the first layer in the model instead.\n",
      "  super().__init__(activity_regularizer=activity_regularizer, **kwargs)\n"
     ]
    }
   ],
   "source": [
    "\n",
    "from tensorflow.keras.models import Sequential\n",
    "from tensorflow.keras.layers import Conv2D, MaxPooling2D, Flatten, Dense, Dropout\n",
    "from tensorflow.keras.optimizers import Adam\n",
    "\n",
    "# Define image height and width\n",
    "img_height = 150\n",
    "img_width = 150\n",
    "\n",
    "# Define the CNN model\n",
    "model = Sequential([\n",
    "    Conv2D(32, (3, 3), activation='relu', input_shape=(img_height, img_width, 3)),\n",
    "    MaxPooling2D(pool_size=(2, 2)),\n",
    "    Conv2D(64, (3, 3), activation='relu'),\n",
    "    MaxPooling2D(pool_size=(2, 2)),\n",
    "    Conv2D(128, (3, 3), activation='relu'),\n",
    "    MaxPooling2D(pool_size=(2, 2)),\n",
    "    Flatten(),\n",
    "    Dense(512, activation='relu'),\n",
    "    Dropout(0.5),\n",
    "    Dense(1, activation='sigmoid')  # Binary output\n",
    "])\n",
    "\n",
    "# Compile the model\n",
    "model.compile(\n",
    "    optimizer=Adam(learning_rate=0.001),\n",
    "    loss='binary_crossentropy',\n",
    "    metrics=['accuracy']\n",
    ")\n"
   ]
  },
  {
   "cell_type": "code",
   "execution_count": 6,
   "id": "09be30c6",
   "metadata": {
    "execution": {
     "iopub.execute_input": "2024-09-12T14:27:03.897097Z",
     "iopub.status.busy": "2024-09-12T14:27:03.896682Z",
     "iopub.status.idle": "2024-09-12T14:27:03.910572Z",
     "shell.execute_reply": "2024-09-12T14:27:03.909323Z"
    },
    "papermill": {
     "duration": 0.123089,
     "end_time": "2024-09-12T14:27:03.913245",
     "exception": false,
     "start_time": "2024-09-12T14:27:03.790156",
     "status": "completed"
    },
    "tags": []
   },
   "outputs": [
    {
     "name": "stdout",
     "output_type": "stream",
     "text": [
      "[]\n"
     ]
    }
   ],
   "source": [
    "train_dir = '/kaggle/working/test/test1'\n",
    "train_files = os.listdir(train_dir)\n",
    "print(train_files[:10]) "
   ]
  },
  {
   "cell_type": "code",
   "execution_count": 20,
   "id": "cd10c8ab",
   "metadata": {},
   "outputs": [],
   "source": [
    "from tensorflow.keras.models import Sequential\n",
    "from tensorflow.keras.layers import Dense\n",
    "\n",
    "# Define input shape properly, e.g., for flattened 28x28 images\n",
    "input_shape = 784  # Example input size (like for flattened 28x28 images)\n",
    "\n",
    "# Define your model\n",
    "model = Sequential([\n",
    "    Dense(64, activation='relu', input_shape=(input_shape,)),  # input_shape should be a tuple of integers\n",
    "    Dense(10, activation='softmax')\n",
    "])\n",
    "\n",
    "# Compile the model\n",
    "model.compile(optimizer='adam', loss='categorical_crossentropy', metrics=['accuracy'])\n"
   ]
  },
  {
   "cell_type": "code",
   "execution_count": 13,
   "id": "1bdbdb61",
   "metadata": {},
   "outputs": [
    {
     "name": "stdout",
     "output_type": "stream",
     "text": [
      "Directory exists\n",
      "File not found: C:\\kaggle\\working\\test\\test1\\4764.jpg\n"
     ]
    }
   ],
   "source": [
    "import os\n",
    "import matplotlib.pyplot as plt\n",
    "import matplotlib.image as mpimg\n",
    "\n",
    "# Define the directory and file path\n",
    "directory = r'C:\\kaggle\\working\\test\\test1'\n",
    "file_path = os.path.join(directory, '4764.jpg')\n",
    "\n",
    "# Check if the directory exists\n",
    "if os.path.exists(directory):\n",
    "    print(\"Directory exists\")\n",
    "else:\n",
    "    print(\"Directory does not exist, creating directory\")\n",
    "    os.makedirs(directory)\n",
    "\n",
    "# Check if the file exists\n",
    "if os.path.exists(file_path):\n",
    "    # Load and display the image\n",
    "    img = mpimg.imread(file_path)\n",
    "    plt.imshow(img)\n",
    "    plt.axis('off')  # Optional: Hide axes\n",
    "    plt.show()\n",
    "else:\n",
    "    print(f\"File not found: {file_path}\")\n"
   ]
  },
  {
   "cell_type": "code",
   "execution_count": 9,
   "id": "36ecbd04",
   "metadata": {
    "execution": {
     "iopub.execute_input": "2024-09-12T14:27:04.600928Z",
     "iopub.status.busy": "2024-09-12T14:27:04.600475Z",
     "iopub.status.idle": "2024-09-12T14:27:04.772318Z",
     "shell.execute_reply": "2024-09-12T14:27:04.770745Z"
    },
    "papermill": {
     "duration": 0.286194,
     "end_time": "2024-09-12T14:27:04.774760",
     "exception": false,
     "start_time": "2024-09-12T14:27:04.488566",
     "status": "completed"
    },
    "tags": []
   },
   "outputs": [
    {
     "name": "stdout",
     "output_type": "stream",
     "text": [
      "La imagen es un: example_label\n"
     ]
    }
   ],
   "source": [
    "# Probar con una imagen de ejemplo\n",
    "test_image_path = '/kaggle/working/test/test1/4764.jpg'  # Cambia esta ruta a una imagen de prueba\n",
    "\n",
    "def predict_image(image_path):\n",
    "    # Your code to predict the image label\n",
    "    predicted_label = \"example_label\"  # Replace with actual prediction logic\n",
    "    return predicted_label\n",
    "\n",
    "predicted_label = predict_image(test_image_path)\n",
    "print(f'La imagen es un: {predicted_label}')\n"
   ]
  }
 ],
 "metadata": {
  "kaggle": {
   "accelerator": "none",
   "dataSources": [
    {
     "databundleVersionId": 31148,
     "sourceId": 3362,
     "sourceType": "competition"
    }
   ],
   "dockerImageVersionId": 30761,
   "isGpuEnabled": false,
   "isInternetEnabled": true,
   "language": "python",
   "sourceType": "notebook"
  },
  "kernelspec": {
   "display_name": "Python 3",
   "language": "python",
   "name": "python3"
  },
  "language_info": {
   "codemirror_mode": {
    "name": "ipython",
    "version": 3
   },
   "file_extension": ".py",
   "mimetype": "text/x-python",
   "name": "python",
   "nbconvert_exporter": "python",
   "pygments_lexer": "ipython3",
   "version": "3.9.13"
  },
  "papermill": {
   "default_parameters": {},
   "duration": 305.668563,
   "end_time": "2024-09-12T14:27:07.383278",
   "environment_variables": {},
   "exception": null,
   "input_path": "__notebook__.ipynb",
   "output_path": "__notebook__.ipynb",
   "parameters": {},
   "start_time": "2024-09-12T14:22:01.714715",
   "version": "2.6.0"
  }
 },
 "nbformat": 4,
 "nbformat_minor": 5
}
